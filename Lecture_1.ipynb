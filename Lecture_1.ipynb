{
  "nbformat": 4,
  "nbformat_minor": 0,
  "metadata": {
    "colab": {
      "provenance": []
    },
    "kernelspec": {
      "name": "python3",
      "display_name": "Python 3"
    },
    "language_info": {
      "name": "python"
    }
  },
  "cells": [
    {
      "cell_type": "code",
      "execution_count": 3,
      "metadata": {
        "colab": {
          "base_uri": "https://localhost:8080/"
        },
        "id": "3-LrLwvtut4n",
        "outputId": "05c6bb4d-3a0a-48c8-b603-0a633a66daac"
      },
      "outputs": [
        {
          "output_type": "execute_result",
          "data": {
            "text/plain": [
              "12"
            ]
          },
          "metadata": {},
          "execution_count": 3
        }
      ],
      "source": [
        "class SomeClass(object):\n",
        "  attr1 = 42\n",
        "  def method1(self, x):\n",
        "    return 2*x\n",
        "obj = SomeClass()\n",
        "obj.method1(6) # 12\n"
      ]
    },
    {
      "cell_type": "code",
      "source": [
        "obj.attr1 # 42"
      ],
      "metadata": {
        "colab": {
          "base_uri": "https://localhost:8080/"
        },
        "id": "AGdS1xwRvOPY",
        "outputId": "6ae5c037-fa46-49d3-9c2d-f90a33c9ab5f"
      },
      "execution_count": 4,
      "outputs": [
        {
          "output_type": "execute_result",
          "data": {
            "text/plain": [
              "42"
            ]
          },
          "metadata": {},
          "execution_count": 4
        }
      ]
    },
    {
      "cell_type": "code",
      "source": [
        "def func(x):\n",
        "  return 2*x[0], 3*x[1], 4*x[2]\n",
        "class Point:\n",
        "  def __init__(self, x, y, z):\n",
        "    self.coord = (x, y, z)\n",
        "    self.coord2 = func(self.coord)\n",
        "    print('Success init!')\n",
        "p1 = Point(13, 14, 15)\n",
        "p2 = Point(10, 1, 17)"
      ],
      "metadata": {
        "colab": {
          "base_uri": "https://localhost:8080/"
        },
        "id": "dT9tbaLAvSVb",
        "outputId": "747fb828-df2e-4199-dbb4-8be2762ad3ad"
      },
      "execution_count": 5,
      "outputs": [
        {
          "output_type": "stream",
          "name": "stdout",
          "text": [
            "Success init!\n",
            "Success init!\n"
          ]
        }
      ]
    },
    {
      "cell_type": "code",
      "source": [
        "p1.coord # (13, 14, 15)"
      ],
      "metadata": {
        "colab": {
          "base_uri": "https://localhost:8080/"
        },
        "id": "HN0AaEW7vdhl",
        "outputId": "97891e4c-3d34-4f64-8352-b825d86b5b92"
      },
      "execution_count": 6,
      "outputs": [
        {
          "output_type": "execute_result",
          "data": {
            "text/plain": [
              "(13, 14, 15)"
            ]
          },
          "metadata": {},
          "execution_count": 6
        }
      ]
    },
    {
      "cell_type": "code",
      "source": [
        "p2.coord # (10, 1, 17)"
      ],
      "metadata": {
        "colab": {
          "base_uri": "https://localhost:8080/"
        },
        "id": "_nf47djAvduE",
        "outputId": "e6fa1851-b33d-4ef3-b932-64943ddec476"
      },
      "execution_count": 7,
      "outputs": [
        {
          "output_type": "execute_result",
          "data": {
            "text/plain": [
              "(10, 1, 17)"
            ]
          },
          "metadata": {},
          "execution_count": 7
        }
      ]
    },
    {
      "cell_type": "code",
      "source": [
        "p2.coord2 # (20, 3, 68)"
      ],
      "metadata": {
        "colab": {
          "base_uri": "https://localhost:8080/"
        },
        "id": "iY4sIgtkvkP4",
        "outputId": "26559ff8-3da1-4131-8863-c80837d54a95"
      },
      "execution_count": 8,
      "outputs": [
        {
          "output_type": "execute_result",
          "data": {
            "text/plain": [
              "(20, 3, 68)"
            ]
          },
          "metadata": {},
          "execution_count": 8
        }
      ]
    },
    {
      "cell_type": "code",
      "source": [
        "class Pow:\n",
        "  def __init__(self, x):\n",
        "    self.sqr = x ** 2\n",
        "    print('Success init!')\n",
        "x_2 = Pow(13)"
      ],
      "metadata": {
        "colab": {
          "base_uri": "https://localhost:8080/"
        },
        "id": "AsAzpr7M_bnk",
        "outputId": "e20e53f7-e53d-49d1-af6c-669e3136b12e"
      },
      "execution_count": 9,
      "outputs": [
        {
          "output_type": "stream",
          "name": "stdout",
          "text": [
            "Success init!\n"
          ]
        }
      ]
    },
    {
      "cell_type": "code",
      "source": [
        "x_2.sqr"
      ],
      "metadata": {
        "colab": {
          "base_uri": "https://localhost:8080/"
        },
        "id": "NipzuPKP_6Ce",
        "outputId": "ef1f7ed7-631a-4342-d1a4-e771b1901fd9"
      },
      "execution_count": 11,
      "outputs": [
        {
          "output_type": "execute_result",
          "data": {
            "text/plain": [
              "169"
            ]
          },
          "metadata": {},
          "execution_count": 11
        }
      ]
    }
  ]
}